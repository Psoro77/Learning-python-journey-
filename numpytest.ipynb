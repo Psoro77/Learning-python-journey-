{
 "cells": [
  {
   "cell_type": "code",
   "execution_count": 9,
   "id": "daf42239",
   "metadata": {},
   "outputs": [
    {
     "name": "stdout",
     "output_type": "stream",
     "text": [
      "A @ B =\n",
      " [[244  87]\n",
      " [398  87]]\n",
      "A transposée =\n",
      " [[1 3]\n",
      " [2 4]\n",
      " [9 6]]\n",
      "Rang de A = 2\n"
     ]
    }
   ],
   "source": [
    "import numpy as np\n",
    "A= np.array([[1,2,9],[3,4,6]])\n",
    "B =np.array([[6,9], [83,3], [8,8]])\n",
    "\n",
    "# print('A+B=', A+B)\n",
    "# Produit matriciel\n",
    "print(\"A @ B =\\n\", A @ B)\n",
    "# Transposée de A\n",
    "print(\"A transposée =\\n\", A.T)\n",
    "# Rang de A\n",
    "rank_A = np.linalg.matrix_rank(A)\n",
    "print(\"Rang de A =\", rank_A)"
   ]
  }
 ],
 "metadata": {
  "kernelspec": {
   "display_name": "Python 3",
   "language": "python",
   "name": "python3"
  },
  "language_info": {
   "codemirror_mode": {
    "name": "ipython",
    "version": 3
   },
   "file_extension": ".py",
   "mimetype": "text/x-python",
   "name": "python",
   "nbconvert_exporter": "python",
   "pygments_lexer": "ipython3",
   "version": "3.9.13"
  }
 },
 "nbformat": 4,
 "nbformat_minor": 5
}
