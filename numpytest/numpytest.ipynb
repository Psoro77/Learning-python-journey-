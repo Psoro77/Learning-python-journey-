{
 "cells": [
  {
   "cell_type": "code",
   "execution_count": 2,
   "id": "daf42239",
   "metadata": {},
   "outputs": [
    {
     "name": "stdout",
     "output_type": "stream",
     "text": [
      "A @ B =\n",
      " [[244  87]\n",
      " [398  87]]\n",
      "A transposée =\n",
      " [[1 3]\n",
      " [2 4]\n",
      " [9 6]]\n",
      "Rang de A = 2\n"
     ]
    }
   ],
   "source": [
    "import numpy as np\n",
    "A= np.array([[1,2,9],[3,4,6]])\n",
    "B =np.array([[6,9], [83,3], [8,8]])\n",
    "\n",
    "# print('A+B=', A+B)\n",
    "# Produit matriciel\n",
    "print(\"A @ B =\\n\", A @ B)\n",
    "# Transposée de A\n",
    "print(\"A transposée =\\n\", A.T)\n",
    "# Rang de A\n",
    "rank_A = np.linalg.matrix_rank(A)\n",
    "print(\"Rang de A =\", rank_A)"
   ]
  },
  {
   "cell_type": "code",
   "execution_count": 22,
   "id": "7f25cfa0",
   "metadata": {},
   "outputs": [
    {
     "name": "stdout",
     "output_type": "stream",
     "text": [
      "[[7636   29   93]\n",
      " [8472    9   32]]\n",
      "(2, 3)\n",
      "(2, 3)\n",
      "[[7639   33   98]\n",
      " [8475   71   39]]\n"
     ]
    }
   ],
   "source": [
    "c = np.array([[3,4,5],[3,62,7]])\n",
    "d = np.array([[7636,29,93],[8472,9,32]])\n",
    "print(d)\n",
    "print(c.shape)\n",
    "print(d.shape)\n",
    "print(c+d)\n",
    "# print(c@d) cannot be because l*m m*r the m is different "
   ]
  },
  {
   "cell_type": "markdown",
   "id": "55910549",
   "metadata": {},
   "source": [
    "produit scalaire  et transpo"
   ]
  },
  {
   "cell_type": "code",
   "execution_count": 23,
   "id": "facf9751",
   "metadata": {},
   "outputs": [
    {
     "name": "stdout",
     "output_type": "stream",
     "text": [
      "537\n",
      "13.666666666666666\n",
      "10.0\n",
      "2\n",
      "transpose de d: \n",
      " [[7636 8472]\n",
      " [  29    9]\n",
      " [  93   32]]\n"
     ]
    }
   ],
   "source": [
    "vec1 = np.array([3,56,7,2,6,8])\n",
    "vec2 =np.array([37,6,2,5,7,3])\n",
    "produitsc = np.dot(vec1, vec2)\n",
    "print(produitsc)\n",
    "print(vec1.mean())\n",
    "print(np.mean(vec2))\n",
    "##les deux marchent c un objet de type numpy anyway\n",
    "print(vec2.min())\n",
    "print('transpose de d: \\n', d.T )\n"
   ]
  },
  {
   "cell_type": "code",
   "execution_count": 30,
   "id": "4a4c8971",
   "metadata": {},
   "outputs": [
    {
     "name": "stdout",
     "output_type": "stream",
     "text": [
      "[0 2 4 6 8]\n",
      "eye : [[1. 0. 0. ... 0. 0. 0.]\n",
      " [0. 1. 0. ... 0. 0. 0.]\n",
      " [0. 0. 1. ... 0. 0. 0.]\n",
      " ...\n",
      " [0. 0. 0. ... 0. 0. 0.]\n",
      " [0. 0. 0. ... 0. 0. 0.]\n",
      " [0. 0. 0. ... 0. 0. 0.]]\n"
     ]
    }
   ],
   "source": [
    "pair = np.arange(0,10 , 2)\n",
    "print(pair)\n",
    "i =np.eye(765,908)\n",
    "print(f'eye : {i}')"
   ]
  },
  {
   "cell_type": "markdown",
   "id": "030ba3c4",
   "metadata": {},
   "source": [
    "slicing et indexation :"
   ]
  },
  {
   "cell_type": "code",
   "execution_count": 42,
   "id": "a2b822c0",
   "metadata": {},
   "outputs": [
    {
     "name": "stdout",
     "output_type": "stream",
     "text": [
      "[10 20 30]\n",
      "[20 50]\n",
      "sous matrice : \n",
      " [[20 30]\n",
      " [50 60]]\n",
      "95.39392014169457\n"
     ]
    }
   ],
   "source": [
    "mat = np.array([[10, 20, 30], [40, 50, 60]])\n",
    "#acces a une ligne :\n",
    "print(mat[0])\n",
    "#acces a une ligne :\n",
    "print(mat[:,1 ])\n",
    "#sous matrice : \n",
    "print('sous matrice : \\n', mat[:, 1:3])\n",
    "print(np.linalg.norm(mat))"
   ]
  },
  {
   "cell_type": "markdown",
   "id": "39cf9c83",
   "metadata": {},
   "source": [
    "exo :"
   ]
  },
  {
   "cell_type": "code",
   "execution_count": null,
   "id": "0db4916e",
   "metadata": {},
   "outputs": [
    {
     "name": "stdout",
     "output_type": "stream",
     "text": [
      "sum : 15\n",
      "mean 3.75\n",
      "prouct 144\n"
     ]
    }
   ],
   "source": [
    "a = np.array([2,3,6,4])\n",
    "print('sum :', a.sum())\n",
    "print('mean', a.mean() )\n",
    "print('product', a.prod() )"
   ]
  },
  {
   "cell_type": "code",
   "execution_count": null,
   "id": "35ba2e11",
   "metadata": {},
   "outputs": [],
   "source": []
  }
 ],
 "metadata": {
  "kernelspec": {
   "display_name": "Python 3",
   "language": "python",
   "name": "python3"
  },
  "language_info": {
   "codemirror_mode": {
    "name": "ipython",
    "version": 3
   },
   "file_extension": ".py",
   "mimetype": "text/x-python",
   "name": "python",
   "nbconvert_exporter": "python",
   "pygments_lexer": "ipython3",
   "version": "3.9.13"
  }
 },
 "nbformat": 4,
 "nbformat_minor": 5
}
