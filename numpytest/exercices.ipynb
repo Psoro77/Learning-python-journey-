{
 "cells": [
  {
   "cell_type": "markdown",
   "id": "9d3c6367",
   "metadata": {},
   "source": [
    "array 1111111\n",
    "      1 0 0 1\n",
    "      1009001\n",
    "      1 0 0 1\n",
    "      1111111\n"
   ]
  },
  {
   "cell_type": "code",
   "execution_count": 3,
   "id": "482cc2ba",
   "metadata": {},
   "outputs": [
    {
     "name": "stdout",
     "output_type": "stream",
     "text": [
      "[[1. 1. 1. 1. 1.]\n",
      " [1. 0. 0. 0. 1.]\n",
      " [1. 0. 9. 0. 1.]\n",
      " [1. 0. 0. 0. 1.]\n",
      " [1. 1. 1. 1. 1.]]\n"
     ]
    }
   ],
   "source": [
    "import numpy as np\n",
    "array = np.ones((5,5))\n",
    "\n",
    "array[1, 1 : 4] = 0\n",
    "array[3, 1 : 4] = 0\n",
    "array[2, 1 : 4 :2] = 0\n",
    "array[2,2]= 9\n",
    "print(array)"
   ]
  },
  {
   "cell_type": "code",
   "execution_count": 4,
   "id": "9075f0d2",
   "metadata": {},
   "outputs": [
    {
     "name": "stdout",
     "output_type": "stream",
     "text": [
      "[[1. 1. 1. 1. 1.]\n",
      " [1. 0. 0. 0. 1.]\n",
      " [1. 0. 9. 0. 1.]\n",
      " [1. 0. 0. 0. 1.]\n",
      " [1. 1. 1. 1. 1.]]\n"
     ]
    }
   ],
   "source": [
    "# autre solution : \n",
    "array = np.ones((5,5))\n",
    "armidl = np.zeros((3,3))\n",
    "armidl[1,1]= 9  \n",
    "array[1 : 4, 1: 4]= armidl\n",
    "print(array)"
   ]
  },
  {
   "cell_type": "markdown",
   "id": "7d41de6f",
   "metadata": {},
   "source": [
    "exercice de gpt"
   ]
  },
  {
   "cell_type": "code",
   "execution_count": 5,
   "id": "9a85d25f",
   "metadata": {},
   "outputs": [
    {
     "name": "stdout",
     "output_type": "stream",
     "text": [
      "[29 10 11 47 13 21 24 26 25 20 23 31 23 17 32 45 29 39 49 19 41 32 46 27\n",
      " 11 14 14 33 19 37 36 47 32 46 39 32 46 33 10 18 24 11 42 27 33 39 20 38\n",
      " 22 39 10 46 39 49 43 32 28 37 27 43 42 15 20 24 13 22 31 41 24 13 16 29\n",
      " 34 44 11 23 43 46 32 14 22 13 13 32 41 12 13 46 24 34 33 12 49 17 43 16\n",
      " 16 25 15 38]\n",
      "[[1. 0. 0. 0. 0.]\n",
      " [0. 1. 0. 0. 0.]\n",
      " [0. 0. 1. 0. 0.]\n",
      " [0. 0. 0. 1. 0.]\n",
      " [0. 0. 0. 0. 1.]]\n",
      "[[ 1  2  3  4  5]\n",
      " [ 6  7  8  9 10]\n",
      " [11 12 13 14 15]\n",
      " [16 17 18 19 20]]\n",
      "[[33 24  6 18]\n",
      " [10 62 28 51]\n",
      " [52 16  2 19]\n",
      " [ 1  9 22 47]]\n",
      "[[[33 24  6 18]\n",
      "  [10 62 28 51]]\n",
      "\n",
      " [[52 16  2 19]\n",
      "  [ 1  9 22 47]]]\n",
      "[[0 1 2]\n",
      " [3 4 5]]\n"
     ]
    }
   ],
   "source": [
    "arr = np.random.randint(10, 50, size=100)\n",
    "print(arr)\n",
    "arriden = np.identity(5)\n",
    "print(arriden)\n",
    "arr= np.arange(1, 21).reshape(4, 5)\n",
    "print(arr)\n",
    "#part3\n",
    "arr = np.random.randint(1,83, size=16)\n",
    "arr = arr.reshape(4,4)\n",
    "print(arr)\n",
    "print(arr.reshape(2,2,4))\n",
    "print(np.arange(6).reshape(2,3))"
   ]
  },
  {
   "cell_type": "markdown",
   "id": "bfc83645",
   "metadata": {},
   "source": [
    "agregation and broadcasting :"
   ]
  },
  {
   "cell_type": "code",
   "execution_count": 6,
   "id": "e0884002",
   "metadata": {},
   "outputs": [
    {
     "name": "stdout",
     "output_type": "stream",
     "text": [
      "[[10  2  6]\n",
      " [ 4  8 12]]\n",
      "21\n",
      "[3.5 2.5 4.5]\n",
      "[3. 4.]\n",
      "1\n",
      "[[11 22 33]\n",
      " [14 25 36]]\n",
      "[[ 10  40  90]\n",
      " [ 40 100 180]]\n",
      "[[0.1  0.1  0.1 ]\n",
      " [0.4  0.25 0.2 ]]\n"
     ]
    }
   ],
   "source": [
    "arr = np.array([[5, 1, 3], [2, 4, 6]])\n",
    "print(arr+ arr)\n",
    "print(arr.sum())\n",
    "print(arr.mean(axis=0))#moyenne par colonne\n",
    "print(arr.mean(axis=1)) #moyenne par row\n",
    "print(arr.min())\n",
    "#soit\n",
    "A = np.array([[1, 2, 3], [4, 5, 6]])\n",
    "B = np.array([10, 20, 30])\n",
    "print(A+B)\n",
    "print(A*B)\n",
    "print(A/B)"
   ]
  },
  {
   "cell_type": "markdown",
   "id": "6a0fa6ae",
   "metadata": {},
   "source": [
    "un peu plus dur : \n"
   ]
  },
  {
   "cell_type": "code",
   "execution_count": 7,
   "id": "b5d3b3df",
   "metadata": {},
   "outputs": [
    {
     "name": "stdout",
     "output_type": "stream",
     "text": [
      "[-1 -1  3 -1 -1 77 -1 -1 59 -1 21 -1 -1 -1 -1 -1 -1 13 23 -1 59 93 11 -1\n",
      " 43 89 -1 11 71 -1 -1  5 -1 -1 -1 61 -1 85 -1 -1 21 -1 -1 33 21 69 -1 -1\n",
      " -1 -1]\n",
      "[89 93]\n"
     ]
    }
   ],
   "source": [
    "# 1. Crée un tableau 1D de 50 entiers aléatoires entre 1 et 100.\n",
    "# 2. Remplace tous les nombres impairs par -1.\n",
    "# 3. Compte combien de valeurs sont supérieures à 70.\n",
    "# 4. Extrais les 5 plus grands éléments du tableau.\n",
    "arr = np.random.randint(1,100, size=50)\n",
    "arr[arr%2==0]=-1\n",
    "print(arr)\n",
    "np.count_nonzero(arr[arr>70])\n",
    "print(np.partition(arr,-2 )[-2 :])\n"
   ]
  },
  {
   "cell_type": "code",
   "execution_count": 15,
   "id": "19b48126",
   "metadata": {},
   "outputs": [
    {
     "name": "stdout",
     "output_type": "stream",
     "text": [
      "[[1]\n",
      " [2]\n",
      " [3]]\n",
      "[[11 21 31 41]\n",
      " [12 22 32 42]\n",
      " [13 23 33 43]]\n",
      "(3, 4)\n"
     ]
    }
   ],
   "source": [
    "# 1. Crée un tableau de forme (3, 1) contenant [1, 2, 3].\n",
    "# 2. Crée un autre tableau de forme (1, 4) contenant [10, 20, 30, 40].\n",
    "# 3. Fais une addition entre les deux (broadcasting).\n",
    "# 4. Que donne le résultat ? Quelle est sa forme ?\n",
    "arr = np.arange(1, 4).reshape((3,1))\n",
    "print(arr)\n",
    "arr2 =np.arange(10, 41, 10).reshape((1,4))\n",
    "print(arr+arr2)\n",
    "print((arr+arr2).shape)"
   ]
  }
 ],
 "metadata": {
  "kernelspec": {
   "display_name": "Python 3",
   "language": "python",
   "name": "python3"
  },
  "language_info": {
   "codemirror_mode": {
    "name": "ipython",
    "version": 3
   },
   "file_extension": ".py",
   "mimetype": "text/x-python",
   "name": "python",
   "nbconvert_exporter": "python",
   "pygments_lexer": "ipython3",
   "version": "3.9.13"
  }
 },
 "nbformat": 4,
 "nbformat_minor": 5
}
