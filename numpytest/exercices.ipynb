{
 "cells": [
  {
   "cell_type": "markdown",
   "id": "9d3c6367",
   "metadata": {},
   "source": [
    "array 1111111\n",
    "      1 0 0 1\n",
    "      1009001\n",
    "      1 0 0 1\n",
    "      1111111\n"
   ]
  },
  {
   "cell_type": "code",
   "execution_count": 17,
   "id": "482cc2ba",
   "metadata": {},
   "outputs": [
    {
     "name": "stdout",
     "output_type": "stream",
     "text": [
      "[[1. 1. 1. 1. 1.]\n",
      " [1. 0. 0. 0. 1.]\n",
      " [1. 0. 9. 0. 1.]\n",
      " [1. 0. 0. 0. 1.]\n",
      " [1. 1. 1. 1. 1.]]\n"
     ]
    }
   ],
   "source": [
    "import numpy as np\n",
    "array = np.ones((5,5))\n",
    "\n",
    "array[1, 1 : 4] = 0\n",
    "array[3, 1 : 4] = 0\n",
    "array[2, 1 : 4 :2] = 0\n",
    "array[2,2]= 9\n",
    "print(array)"
   ]
  },
  {
   "cell_type": "code",
   "execution_count": null,
   "id": "9075f0d2",
   "metadata": {},
   "outputs": [
    {
     "name": "stdout",
     "output_type": "stream",
     "text": [
      "[[1. 1. 1. 1. 1.]\n",
      " [1. 0. 0. 0. 1.]\n",
      " [1. 0. 9. 0. 1.]\n",
      " [1. 0. 0. 0. 1.]\n",
      " [1. 1. 1. 1. 1.]]\n"
     ]
    }
   ],
   "source": [
    "# autre solution : \n",
    "array = np.ones((5,5))\n",
    "armidl = np.zeros((3,3))\n",
    "armidl[1,1]= 9  \n",
    "array[1 : 4, 1: 4]= armidl\n",
    "print(array)"
   ]
  },
  {
   "cell_type": "markdown",
   "id": "7d41de6f",
   "metadata": {},
   "source": [
    "exercice de gpt"
   ]
  },
  {
   "cell_type": "code",
   "execution_count": 48,
   "id": "9a85d25f",
   "metadata": {},
   "outputs": [
    {
     "name": "stdout",
     "output_type": "stream",
     "text": [
      "[41 31 27 44 19 19 36 43 34 36 46 32 20 34 33 42 13 14 20 29 31 10 31 17\n",
      " 47 32 49 28 20 37 45 29 27 32 16 32 39 22 46 30 47 45 43 20 39 24 39 20\n",
      " 17 48 20 44 25 12 21 33 39 30 28 38 40 26 23 43 10 33 49 25 36 44 43 39\n",
      " 10 24 42 47 40 28 12 37 48 48 39 21 24 14 46 49 12 41 24 30 13 36 40 34\n",
      " 49 25 44 11]\n",
      "[[1. 0. 0. 0. 0.]\n",
      " [0. 1. 0. 0. 0.]\n",
      " [0. 0. 1. 0. 0.]\n",
      " [0. 0. 0. 1. 0.]\n",
      " [0. 0. 0. 0. 1.]]\n",
      "[[ 1  2  3  4  5]\n",
      " [ 6  7  8  9 10]\n",
      " [11 12 13 14 15]\n",
      " [16 17 18 19 20]]\n",
      "[[54 75 32  8]\n",
      " [ 7 15 73 36]\n",
      " [23 23 27 69]\n",
      " [14 30 58 65]]\n",
      "[[[54 75 32  8]\n",
      "  [ 7 15 73 36]]\n",
      "\n",
      " [[23 23 27 69]\n",
      "  [14 30 58 65]]]\n",
      "[[0 1 2]\n",
      " [3 4 5]]\n"
     ]
    }
   ],
   "source": [
    "arr = np.random.randint(10, 50, size=100)\n",
    "print(arr)\n",
    "arriden = np.identity(5)\n",
    "print(arriden)\n",
    "arr= np.arange(1, 21).reshape(4, 5)\n",
    "print(arr)\n",
    "#part3\n",
    "arr = np.random.randint(1,83, size=16)\n",
    "arr = arr.reshape(4,4)\n",
    "print(arr)\n",
    "print(arr.reshape(2,2,4))\n",
    "print(np.arange(6).reshape(2,3))"
   ]
  },
  {
   "cell_type": "markdown",
   "id": "bfc83645",
   "metadata": {},
   "source": [
    "agregation and broadcasting :"
   ]
  },
  {
   "cell_type": "code",
   "execution_count": 65,
   "id": "e0884002",
   "metadata": {},
   "outputs": [
    {
     "name": "stdout",
     "output_type": "stream",
     "text": [
      "[[10  2  6]\n",
      " [ 4  8 12]]\n",
      "21\n",
      "[3.5 2.5 4.5]\n",
      "[3. 4.]\n",
      "1\n",
      "[[11 22 33]\n",
      " [14 25 36]]\n",
      "[[ 10  40  90]\n",
      " [ 40 100 180]]\n",
      "[[0.1  0.1  0.1 ]\n",
      " [0.4  0.25 0.2 ]]\n"
     ]
    }
   ],
   "source": [
    "arr = np.array([[5, 1, 3], [2, 4, 6]])\n",
    "print(arr+ arr)\n",
    "print(arr.sum())\n",
    "print(arr.mean(axis=0))#moyenne par colonne\n",
    "print(arr.mean(axis=1)) #moyenne par row\n",
    "print(arr.min())\n",
    "#soit\n",
    "A = np.array([[1, 2, 3], [4, 5, 6]])\n",
    "B = np.array([10, 20, 30])\n",
    "print(A+B)\n",
    "print(A*B)\n",
    "print(A/B)"
   ]
  },
  {
   "cell_type": "markdown",
   "id": "6a0fa6ae",
   "metadata": {},
   "source": [
    "un peu plus dur : \n"
   ]
  },
  {
   "cell_type": "code",
   "execution_count": 109,
   "id": "b5d3b3df",
   "metadata": {},
   "outputs": [
    {
     "name": "stdout",
     "output_type": "stream",
     "text": [
      "[53 21 -1 -1 95 -1 43 -1 -1 -1 75 27 47 -1 73 91 -1  5 47 49 -1 31 -1 47\n",
      " 65 29 -1 -1 81 -1 15 -1 59 19 17 17 87 -1 67 -1 -1 85 -1 -1 11 23 69 17\n",
      " -1 87]\n",
      "[91 95]\n"
     ]
    }
   ],
   "source": [
    "# 1. Crée un tableau 1D de 50 entiers aléatoires entre 1 et 100.\n",
    "# 2. Remplace tous les nombres impairs par -1.\n",
    "# 3. Compte combien de valeurs sont supérieures à 70.\n",
    "# 4. Extrais les 5 plus grands éléments du tableau.\n",
    "arr = np.random.randint(1,100, size=50)\n",
    "arr[arr%2==0]=-1\n",
    "print(arr)\n",
    "np.count_nonzero(arr[arr>70])\n",
    "print(np.partition(arr,-2 )[-2 :])\n"
   ]
  },
  {
   "cell_type": "code",
   "execution_count": null,
   "id": "19b48126",
   "metadata": {},
   "outputs": [],
   "source": []
  }
 ],
 "metadata": {
  "kernelspec": {
   "display_name": "Python 3",
   "language": "python",
   "name": "python3"
  },
  "language_info": {
   "codemirror_mode": {
    "name": "ipython",
    "version": 3
   },
   "file_extension": ".py",
   "mimetype": "text/x-python",
   "name": "python",
   "nbconvert_exporter": "python",
   "pygments_lexer": "ipython3",
   "version": "3.9.13"
  }
 },
 "nbformat": 4,
 "nbformat_minor": 5
}
