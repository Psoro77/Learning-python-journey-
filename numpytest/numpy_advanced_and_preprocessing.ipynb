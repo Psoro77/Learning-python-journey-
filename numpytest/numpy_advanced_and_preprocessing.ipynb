{
 "cells": [
  {
   "cell_type": "markdown",
   "metadata": {},
   "source": [
    "# 💻 Exercices Avancés en NumPy & Prétraitement pour Machine Learning\n",
    "\n",
    "Ce notebook regroupe deux types d'exercices :\n",
    "- Manipulations NumPy avancées (vectorisation, matrices, images, etc.)\n",
    "- Traitement de données simulées comme étape avant du machine learning\n"
   ]
  },
  {
   "cell_type": "markdown",
   "metadata": {},
   "source": [
    "## 🧮 Exercice 1 : Calcul de distances Euclidiennes\n",
    "- Génère 100 points 2D aléatoires\n",
    "- Calcule toutes les distances entre les couples de points (matrice 100x100)\n",
    "- Utilise **exclusivement NumPy** et vectorise tout !"
   ]
  },
  {
   "cell_type": "code",
   "execution_count": 1,
   "metadata": {},
   "outputs": [],
   "source": [
    "import numpy as np\n",
    "points = np.random.random((100, 2))"
   ]
  },
  {
   "cell_type": "markdown",
   "metadata": {},
   "source": [
    "## 🖼️ Exercice 2 : Convolution 3×3 sur image en niveaux de gris\n",
    "- Simule une image 10×10\n",
    "- Applique une convolution simple (filtre moyen ou Sobel-like)\n",
    "- Utilise uniquement NumPy (pas de bibliothèque d'image !)"
   ]
  },
  {
   "cell_type": "code",
   "execution_count": 7,
   "metadata": {},
   "outputs": [
    {
     "data": {
      "text/plain": [
       "array([[147.55555556, 146.11111111, 146.        , 120.44444444,\n",
       "        113.33333333, 103.11111111, 139.44444444, 143.44444444],\n",
       "       [137.55555556, 130.33333333, 148.22222222, 122.11111111,\n",
       "        114.77777778, 117.        , 171.11111111, 193.66666667],\n",
       "       [152.77777778, 143.22222222, 161.11111111, 156.11111111,\n",
       "        140.55555556, 127.22222222, 167.77777778, 183.33333333],\n",
       "       [138.11111111, 125.33333333, 149.44444444, 141.        ,\n",
       "        140.22222222, 125.11111111, 176.44444444, 177.55555556],\n",
       "       [160.66666667, 150.88888889, 153.11111111, 143.55555556,\n",
       "        122.55555556, 125.11111111, 154.77777778, 175.        ],\n",
       "       [145.88888889, 129.22222222, 147.44444444, 107.88888889,\n",
       "        111.33333333, 116.88888889, 139.22222222, 151.66666667],\n",
       "       [123.33333333, 115.22222222, 112.33333333,  99.44444444,\n",
       "        121.88888889, 137.55555556, 131.77777778, 140.33333333],\n",
       "       [115.77777778, 105.88888889, 126.66666667, 100.88888889,\n",
       "        123.66666667, 123.        , 130.77777778, 119.77777778]])"
      ]
     },
     "execution_count": 7,
     "metadata": {},
     "output_type": "execute_result"
    }
   ],
   "source": [
    "image = np.random.randint(0, 256, size=(10, 10))\n",
    "kernel = np.ones((3, 3)) / 9\n",
    "convolved = np.zeros((8, 8))\n",
    "for i in range(8):\n",
    "    for j in range(8):\n",
    "        patch = image[i:i+3, j:j+3]\n",
    "        convolved[i, j] = np.sum(patch * kernel)\n",
    "convolved"
   ]
  },
  {
   "cell_type": "markdown",
   "metadata": {},
   "source": [
    "## 🔢 Exercice 3 : Tri pondéré de lignes\n",
    "- Génère une matrice aléatoire 6×4\n",
    "- Applique un tri des lignes selon score pondéré : poids = [0.1, 0.3, 0.4, 0.2]"
   ]
  },
  {
   "cell_type": "code",
   "execution_count": 8,
   "metadata": {},
   "outputs": [
    {
     "data": {
      "text/plain": [
       "array([[11, 81, 12, 12],\n",
       "       [76, 30, 15, 56],\n",
       "       [29, 30, 74, 17],\n",
       "       [27, 37, 48, 80],\n",
       "       [56, 62, 32, 69],\n",
       "       [27, 26, 89, 38]], dtype=int32)"
      ]
     },
     "execution_count": 8,
     "metadata": {},
     "output_type": "execute_result"
    }
   ],
   "source": [
    "mat = np.random.randint(1, 100, (6, 4))\n",
    "weights = np.array([0.1, 0.3, 0.4, 0.2])\n",
    "scores = mat @ weights\n",
    "sorted_mat = mat[np.argsort(scores)]\n",
    "sorted_mat"
   ]
  },
  {
   "cell_type": "markdown",
   "metadata": {},
   "source": [
    "# 🧹 Exercice 4 : Nettoyage d'un dataset simulé\n",
    "- Crée un tableau (100, 5) avec `np.random.randn`\n",
    "- Injecte 10 NaNs aléatoires\n",
    "- Remplace les NaNs par la moyenne colonne\n",
    "- Standardise le tableau (moy=0, std=1)\n",
    "- Supprime colonnes avec variance < 0.1"
   ]
  },
  {
   "cell_type": "code",
   "execution_count": 9,
   "metadata": {},
   "outputs": [
    {
     "data": {
      "text/plain": [
       "(100, 5)"
      ]
     },
     "execution_count": 9,
     "metadata": {},
     "output_type": "execute_result"
    }
   ],
   "source": [
    "data = np.random.randn(100, 5)\n",
    "for _ in range(10):\n",
    "    i, j = np.random.randint(0, 100), np.random.randint(0, 5)\n",
    "    data[i, j] = np.nan\n",
    "means = np.nanmean(data, axis=0)\n",
    "inds = np.where(np.isnan(data))\n",
    "data[inds] = np.take(means, inds[1])\n",
    "data -= data.mean(axis=0)\n",
    "data /= data.std(axis=0)\n",
    "var = data.var(axis=0)\n",
    "data = data[:, var >= 0.1]\n",
    "data.shape"
   ]
  },
  {
   "cell_type": "markdown",
   "metadata": {},
   "source": [
    "## 🧊 Exercice 5 : Analyse d'image binaire\n",
    "- Crée une matrice 20×20 avec des blocs de 1\n",
    "- Tente de compter les blocs connectés (voisinage 4)\n",
    "- Implémente un flood fill récursif en NumPy (avancé !)\n",
    "\n",
    "**Indice** : tu peux convertir la matrice en booléen, et appeler une fonction récursive."
   ]
  },
  {
   "cell_type": "code",
   "execution_count": 10,
   "metadata": {},
   "outputs": [
    {
     "data": {
      "text/plain": [
       "2"
      ]
     },
     "execution_count": 10,
     "metadata": {},
     "output_type": "execute_result"
    }
   ],
   "source": [
    "img = np.zeros((20, 20), dtype=int)\n",
    "img[2:5, 2:5] = 1\n",
    "img[10:13, 10:14] = 1\n",
    "\n",
    "def flood_fill(mat, i, j, visited):\n",
    "    if i < 0 or j < 0 or i >= mat.shape[0] or j >= mat.shape[1]:\n",
    "        return\n",
    "    if visited[i, j] or mat[i, j] == 0:\n",
    "        return\n",
    "    visited[i, j] = True\n",
    "    for dx, dy in [(-1,0), (1,0), (0,-1), (0,1)]:\n",
    "        flood_fill(mat, i+dx, j+dy, visited)\n",
    "\n",
    "visited = np.zeros_like(img, dtype=bool)\n",
    "count = 0\n",
    "for i in range(img.shape[0]):\n",
    "    for j in range(img.shape[1]):\n",
    "        if img[i,j] == 1 and not visited[i,j]:\n",
    "            flood_fill(img, i, j, visited)\n",
    "            count += 1\n",
    "count"
   ]
  }
 ],
 "metadata": {
  "kernelspec": {
   "display_name": "Python 3",
   "language": "python",
   "name": "python3"
  },
  "language_info": {
   "codemirror_mode": {
    "name": "ipython",
    "version": 3
   },
   "file_extension": ".py",
   "mimetype": "text/x-python",
   "name": "python",
   "nbconvert_exporter": "python",
   "pygments_lexer": "ipython3",
   "version": "3.9.13"
  }
 },
 "nbformat": 4,
 "nbformat_minor": 2
}
